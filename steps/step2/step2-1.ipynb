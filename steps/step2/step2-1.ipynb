{
 "cells": [
  {
   "cell_type": "code",
   "execution_count": 24,
   "metadata": {},
   "outputs": [
    {
     "name": "stdout",
     "output_type": "stream",
     "text": [
      "eth -- source mac address       : 64:00:6a:6a:c4:01\n",
      "eth -- destination mac address  : 33:33:ff:00:00:01\n",
      "ipv6 -- source ip address       : 2001:660:6701:30cc:84fc:c335:133c:f204\n",
      "ipv6 -- destination mac address : ff02::1:ff00:1\n",
      "icmpv6 -- targeted ip addres    : 2001:660:6701:30cc::1\n",
      "icmpv6 -- mac address requested : 64:00:6a:6a:c4:01\n"
     ]
    }
   ],
   "source": [
    "from scapy.all import *\n",
    "\n",
    "frames=rdpcap(\"ping6-display.pcapng\")\n",
    "# files with ipv6 only packets\n",
    "\n",
    "for frame in frames:\n",
    "    if frame[0][1].version==6:         # if ipv6\n",
    "        if frame[0][1].nh==58:         # if next header is icmpv6\n",
    "            if frame[0][2].type==135:  # only neighbor solicitation\n",
    "                print(f\"eth -- source mac address       : {frame[0][0].src}\")\n",
    "                print(f\"eth -- destination mac address  : {frame[0][0].dst}\")\n",
    "                print(f\"ipv6 -- source ip address       : {frame[0][1].src}\")\n",
    "                print(f\"ipv6 -- destination mac address : {frame[0][1].dst}\")\n",
    "                print(f\"icmpv6 -- targeted ip addres    : {frame[0][2].tgt}\")\n",
    "                print(f\"icmpv6 -- mac address requested : {frame[0][3].lladdr}\")"
   ]
  },
  {
   "cell_type": "code",
   "execution_count": 15,
   "metadata": {},
   "outputs": [
    {
     "name": "stdout",
     "output_type": "stream",
     "text": [
      "###[ IPv6 ]### \n",
      "  version   = 6\n",
      "  tc        = 0\n",
      "  fl        = 0\n",
      "  plen      = 32\n",
      "  nh        = ICMPv6\n",
      "  hlim      = 255\n",
      "  src       = 2001:660:6701:30cc:84fc:c335:133c:f204\n",
      "  dst       = ff02::1:ff00:1\n",
      "###[ ICMPv6 Neighbor Discovery - Neighbor Solicitation ]### \n",
      "     type      = Neighbor Solicitation\n",
      "     code      = 0\n",
      "     cksum     = 0x1d60\n",
      "     res       = 0\n",
      "     tgt       = 2001:660:6701:30cc::1\n",
      "###[ ICMPv6 Neighbor Discovery Option - Source Link-Layer Address ]### \n",
      "        type      = 1\n",
      "        len       = 1\n",
      "        lladdr    = 64:00:6a:6a:c4:01\n",
      "\n"
     ]
    }
   ],
   "source": [
    "frames[0][1].show()"
   ]
  },
  {
   "cell_type": "code",
   "execution_count": 26,
   "metadata": {},
   "outputs": [
    {
     "name": "stdout",
     "output_type": "stream",
     "text": [
      "eth -- source mac address       : 64:00:6a:6a:c4:01\n",
      "eth -- destination mac address  : 33:33:ff:00:00:01\n",
      "ipv6 -- source ip address       : 2001:660:6701:30cc:84fc:c335:133c:f204\n",
      "ipv6 -- destination mac address : ff02::1:ff00:1\n",
      "icmpv6 -- targeted ip addres    : 2001:660:6701:30cc::1\n",
      "icmpv6 -- mac address requested : 64:00:6a:6a:c4:01\n"
     ]
    }
   ],
   "source": [
    "frames2=rdpcap(\"ping6-total.pcapng\")\n",
    "\n",
    "for frame in frames2:\n",
    "    try:\n",
    "        frame[0][0].type\n",
    "    except:  \n",
    "        continue\n",
    "    if frame[0][0].type==34525:            # if eth2 so ipv6, 2048 0x0800 ipv4\n",
    "        if frame[0][1].version==6:         # if ipv6\n",
    "            if frame[0][1].nh==58:         # if next header is icmpv6\n",
    "                if frame[0][2].type==135:  # only neighbor solicitation\n",
    "                    print(f\"eth -- source mac address       : {frame[0][0].src}\")\n",
    "                    print(f\"eth -- destination mac address  : {frame[0][0].dst}\")\n",
    "                    print(f\"ipv6 -- source ip address       : {frame[0][1].src}\")\n",
    "                    print(f\"ipv6 -- destination mac address : {frame[0][1].dst}\")\n",
    "                    print(f\"icmpv6 -- targeted ip addres    : {frame[0][2].tgt}\")\n",
    "                    print(f\"icmpv6 -- mac address requested : {frame[0][3].lladdr}\")"
   ]
  },
  {
   "cell_type": "code",
   "execution_count": 30,
   "metadata": {},
   "outputs": [
    {
     "name": "stdout",
     "output_type": "stream",
     "text": [
      "sniffing on eth0\n"
     ]
    },
    {
     "ename": "PermissionError",
     "evalue": "[Errno 1] Operation not permitted",
     "output_type": "error",
     "traceback": [
      "\u001b[0;31m---------------------------------------------------------------------------\u001b[0m",
      "\u001b[0;31mPermissionError\u001b[0m                           Traceback (most recent call last)",
      "Cell \u001b[0;32mIn[30], line 16\u001b[0m\n\u001b[1;32m     14\u001b[0m nic\u001b[39m=\u001b[39mconf\u001b[39m.\u001b[39miface\n\u001b[1;32m     15\u001b[0m \u001b[39mprint\u001b[39m(\u001b[39mf\u001b[39m\u001b[39m\"\u001b[39m\u001b[39msniffing on \u001b[39m\u001b[39m{\u001b[39;00mnic\u001b[39m}\u001b[39;00m\u001b[39m\"\u001b[39m)\n\u001b[0;32m---> 16\u001b[0m sniff(\u001b[39mfilter\u001b[39;49m\u001b[39m=\u001b[39;49m\u001b[39m\"\u001b[39;49m\u001b[39mip\u001b[39;49m\u001b[39m\"\u001b[39;49m, prn\u001b[39m=\u001b[39;49mprint_icmpv4, store\u001b[39m=\u001b[39;49m\u001b[39m0\u001b[39;49m, iface\u001b[39m=\u001b[39;49mnic, count\u001b[39m=\u001b[39;49m\u001b[39m6\u001b[39;49m)\n",
      "File \u001b[0;32m~/.python/current/lib/python3.10/site-packages/scapy/sendrecv.py:1311\u001b[0m, in \u001b[0;36msniff\u001b[0;34m(*args, **kwargs)\u001b[0m\n\u001b[1;32m   1307\u001b[0m \u001b[39m@conf\u001b[39m\u001b[39m.\u001b[39mcommands\u001b[39m.\u001b[39mregister\n\u001b[1;32m   1308\u001b[0m \u001b[39mdef\u001b[39;00m \u001b[39msniff\u001b[39m(\u001b[39m*\u001b[39margs, \u001b[39m*\u001b[39m\u001b[39m*\u001b[39mkwargs):\n\u001b[1;32m   1309\u001b[0m     \u001b[39m# type: (*Any, **Any) -> PacketList\u001b[39;00m\n\u001b[1;32m   1310\u001b[0m     sniffer \u001b[39m=\u001b[39m AsyncSniffer()\n\u001b[0;32m-> 1311\u001b[0m     sniffer\u001b[39m.\u001b[39;49m_run(\u001b[39m*\u001b[39;49margs, \u001b[39m*\u001b[39;49m\u001b[39m*\u001b[39;49mkwargs)\n\u001b[1;32m   1312\u001b[0m     \u001b[39mreturn\u001b[39;00m cast(PacketList, sniffer\u001b[39m.\u001b[39mresults)\n",
      "File \u001b[0;32m~/.python/current/lib/python3.10/site-packages/scapy/sendrecv.py:1171\u001b[0m, in \u001b[0;36mAsyncSniffer._run\u001b[0;34m(self, count, store, offline, quiet, prn, lfilter, L2socket, timeout, opened_socket, stop_filter, iface, started_callback, session, session_kwargs, **karg)\u001b[0m\n\u001b[1;32m   1169\u001b[0m     \u001b[39melse\u001b[39;00m:\n\u001b[1;32m   1170\u001b[0m         iface \u001b[39m=\u001b[39m iface \u001b[39mor\u001b[39;00m conf\u001b[39m.\u001b[39miface\n\u001b[0;32m-> 1171\u001b[0m         sniff_sockets[_RL2(iface)(\u001b[39mtype\u001b[39;49m\u001b[39m=\u001b[39;49mETH_P_ALL, iface\u001b[39m=\u001b[39;49miface,\n\u001b[1;32m   1172\u001b[0m                                   \u001b[39m*\u001b[39;49m\u001b[39m*\u001b[39;49mkarg)] \u001b[39m=\u001b[39m iface\n\u001b[1;32m   1174\u001b[0m \u001b[39m# Get select information from the sockets\u001b[39;00m\n\u001b[1;32m   1175\u001b[0m _main_socket \u001b[39m=\u001b[39m \u001b[39mnext\u001b[39m(\u001b[39miter\u001b[39m(sniff_sockets))\n",
      "File \u001b[0;32m~/.python/current/lib/python3.10/site-packages/scapy/arch/linux.py:484\u001b[0m, in \u001b[0;36mL2Socket.__init__\u001b[0;34m(self, iface, type, promisc, filter, nofilter, monitor)\u001b[0m\n\u001b[1;32m    482\u001b[0m \u001b[39mself\u001b[39m\u001b[39m.\u001b[39mtype \u001b[39m=\u001b[39m \u001b[39mtype\u001b[39m\n\u001b[1;32m    483\u001b[0m \u001b[39mself\u001b[39m\u001b[39m.\u001b[39mpromisc \u001b[39m=\u001b[39m conf\u001b[39m.\u001b[39msniff_promisc \u001b[39mif\u001b[39;00m promisc \u001b[39mis\u001b[39;00m \u001b[39mNone\u001b[39;00m \u001b[39melse\u001b[39;00m promisc\n\u001b[0;32m--> 484\u001b[0m \u001b[39mself\u001b[39m\u001b[39m.\u001b[39mins \u001b[39m=\u001b[39m socket\u001b[39m.\u001b[39;49msocket(\n\u001b[1;32m    485\u001b[0m     socket\u001b[39m.\u001b[39;49mAF_PACKET, socket\u001b[39m.\u001b[39;49mSOCK_RAW, socket\u001b[39m.\u001b[39;49mhtons(\u001b[39mtype\u001b[39;49m))\n\u001b[1;32m    486\u001b[0m \u001b[39mself\u001b[39m\u001b[39m.\u001b[39mins\u001b[39m.\u001b[39msetsockopt(socket\u001b[39m.\u001b[39mSOL_SOCKET, socket\u001b[39m.\u001b[39mSO_RCVBUF, \u001b[39m0\u001b[39m)\n\u001b[1;32m    487\u001b[0m \u001b[39mif\u001b[39;00m \u001b[39mnot\u001b[39;00m nofilter:\n",
      "File \u001b[0;32m~/.python/current/lib/python3.10/socket.py:232\u001b[0m, in \u001b[0;36msocket.__init__\u001b[0;34m(self, family, type, proto, fileno)\u001b[0m\n\u001b[1;32m    230\u001b[0m     \u001b[39mif\u001b[39;00m proto \u001b[39m==\u001b[39m \u001b[39m-\u001b[39m\u001b[39m1\u001b[39m:\n\u001b[1;32m    231\u001b[0m         proto \u001b[39m=\u001b[39m \u001b[39m0\u001b[39m\n\u001b[0;32m--> 232\u001b[0m _socket\u001b[39m.\u001b[39;49msocket\u001b[39m.\u001b[39;49m\u001b[39m__init__\u001b[39;49m(\u001b[39mself\u001b[39;49m, family, \u001b[39mtype\u001b[39;49m, proto, fileno)\n\u001b[1;32m    233\u001b[0m \u001b[39mself\u001b[39m\u001b[39m.\u001b[39m_io_refs \u001b[39m=\u001b[39m \u001b[39m0\u001b[39m\n\u001b[1;32m    234\u001b[0m \u001b[39mself\u001b[39m\u001b[39m.\u001b[39m_closed \u001b[39m=\u001b[39m \u001b[39mFalse\u001b[39;00m\n",
      "\u001b[0;31mPermissionError\u001b[0m: [Errno 1] Operation not permitted"
     ]
    }
   ],
   "source": [
    "## sniffing frames containing ipv4 ##\n",
    "\n",
    "from scapy.all import *\n",
    "\n",
    "def print_icmpv4():\n",
    "    print(frame.summary())\n",
    "    if frame[0][0].type == 2048:\n",
    "        print(f\"{frame[0].src}\")\n",
    "        print(f\"{frame[0].dst}\")\n",
    "        print(f\"{frame[1].src}\")\n",
    "        print(f\"{frame[1].dst}\")\n",
    "\n",
    "\n",
    "nic=conf.iface\n",
    "print(f\"sniffing on {nic}\")\n",
    "sniff(filter=\"ip\", prn=print_icmpv4, store=0, iface=nic, count=6)"
   ]
  }
 ],
 "metadata": {
  "kernelspec": {
   "display_name": "Python 3",
   "language": "python",
   "name": "python3"
  },
  "language_info": {
   "codemirror_mode": {
    "name": "ipython",
    "version": 3
   },
   "file_extension": ".py",
   "mimetype": "text/x-python",
   "name": "python",
   "nbconvert_exporter": "python",
   "pygments_lexer": "ipython3",
   "version": "3.10.4"
  },
  "orig_nbformat": 4
 },
 "nbformat": 4,
 "nbformat_minor": 2
}
