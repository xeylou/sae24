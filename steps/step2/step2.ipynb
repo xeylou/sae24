{
 "cells": [
  {
   "attachments": {},
   "cell_type": "markdown",
   "metadata": {},
   "source": [
    "source ip address: 2001:660:6701:30cc:84fc:c335:133c:f204\n",
    "destionation ip address: 2001:660:6701:30cc::1"
   ]
  },
  {
   "cell_type": "code",
   "execution_count": null,
   "metadata": {},
   "outputs": [],
   "source": [
    "from scapy.all import *\n",
    "\n",
    "frames=rdpcap(ping6-display.pcapng)\n",
    "\n",
    "print(\"frames:\\n\"+frames.show())"
   ]
  }
 ],
 "metadata": {
  "kernelspec": {
   "display_name": "Python 3",
   "language": "python",
   "name": "python3"
  },
  "language_info": {
   "name": "python",
   "version": "3.10.4"
  },
  "orig_nbformat": 4
 },
 "nbformat": 4,
 "nbformat_minor": 2
}
