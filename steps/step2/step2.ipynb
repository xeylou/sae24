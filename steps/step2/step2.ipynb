{
 "cells": [
  {
   "attachments": {},
   "cell_type": "markdown",
   "metadata": {},
   "source": [
    "source ip address: 2001:660:6701:30cc:84fc:c335:133c:f204\n",
    "destionation ip address: 2001:660:6701:30cc::1"
   ]
  },
  {
   "cell_type": "code",
   "execution_count": 17,
   "metadata": {},
   "outputs": [
    {
     "name": "stdout",
     "output_type": "stream",
     "text": [
      "0000 Ether / IPv6 / ICMPv6ND_NS / ICMPv6 Neighbor Discovery Option - Source Link-Layer Address 64:00:6a:6a:c4:01\n",
      "0001 Ether / IPv6 / ICMPv6ND_NA / ICMPv6 Neighbor Discovery Option - Destination Link-Layer Address 00:13:1a:a3:e1:18\n",
      "0002 Ether / IPv6 / ICMPv6 Echo Request (id: 0x4 seq: 0x1)\n",
      "0003 Ether / IPv6 / ICMPv6 Echo Reply (id: 0x4 seq: 0x1)\n",
      "0004 Ether / IPv6 / ICMPv6 Echo Request (id: 0x4 seq: 0x2)\n",
      "0005 Ether / IPv6 / ICMPv6 Echo Reply (id: 0x4 seq: 0x2)\n",
      "0006 Ether / IPv6 / ICMPv6 Echo Request (id: 0x4 seq: 0x3)\n",
      "0007 Ether / IPv6 / ICMPv6 Echo Reply (id: 0x4 seq: 0x3)\n",
      "0008 Ether / IPv6 / ICMPv6 Echo Request (id: 0x4 seq: 0x4)\n",
      "0009 Ether / IPv6 / ICMPv6 Echo Reply (id: 0x4 seq: 0x4)\n",
      "0010 Ether / IPv6 / ICMPv6 Echo Request (id: 0x4 seq: 0x5)\n",
      "0011 Ether / IPv6 / ICMPv6 Echo Reply (id: 0x4 seq: 0x5)\n",
      "0012 Ether / IPv6 / ICMPv6 Echo Request (id: 0x4 seq: 0x6)\n",
      "0013 Ether / IPv6 / ICMPv6 Echo Reply (id: 0x4 seq: 0x6)\n"
     ]
    },
    {
     "data": {
      "text/plain": [
       "'64:00:6a:6a:c4:01'"
      ]
     },
     "execution_count": 17,
     "metadata": {},
     "output_type": "execute_result"
    }
   ],
   "source": [
    "from scapy.all import *\n",
    "\n",
    "frames=rdpcap(\"ping6-display.pcapng\")\n",
    "\n",
    "frames.show()\n",
    "frames[0][\"IPv6\"].lladdr  # link-local address"
   ]
  },
  {
   "cell_type": "code",
   "execution_count": 15,
   "metadata": {},
   "outputs": [
    {
     "data": {
      "text/plain": [
       "'33:33:ff:00:00:01'"
      ]
     },
     "execution_count": 15,
     "metadata": {},
     "output_type": "execute_result"
    }
   ],
   "source": [
    "frames[0][\"Ether\"].dst"
   ]
  },
  {
   "cell_type": "code",
   "execution_count": 16,
   "metadata": {},
   "outputs": [
    {
     "data": {
      "text/plain": [
       "'ff02::1:ff00:1'"
      ]
     },
     "execution_count": 16,
     "metadata": {},
     "output_type": "execute_result"
    }
   ],
   "source": [
    "frames[0][\"IPv6\"].dst"
   ]
  }
 ],
 "metadata": {
  "kernelspec": {
   "display_name": "Python 3",
   "language": "python",
   "name": "python3"
  },
  "language_info": {
   "codemirror_mode": {
    "name": "ipython",
    "version": 3
   },
   "file_extension": ".py",
   "mimetype": "text/x-python",
   "name": "python",
   "nbconvert_exporter": "python",
   "pygments_lexer": "ipython3",
   "version": "3.10.4"
  },
  "orig_nbformat": 4
 },
 "nbformat": 4,
 "nbformat_minor": 2
}
