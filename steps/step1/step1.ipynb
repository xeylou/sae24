{
 "cells": [
  {
   "cell_type": "code",
   "execution_count": 12,
   "metadata": {},
   "outputs": [
    {
     "name": "stdout",
     "output_type": "stream",
     "text": [
      "Scapy version 2.5.0\n",
      "Interface in use eth0\n",
      "\n",
      "Routing table: \n",
      " Network          Netmask          Gateway     Iface    Output IP   Metric\n",
      "0.0.0.0          0.0.0.0          172.16.5.1  eth0     172.16.5.4  100   \n",
      "127.0.0.0        255.0.0.0        0.0.0.0     lo       127.0.0.1   1     \n",
      "168.63.129.16    255.255.255.255  172.16.5.1  eth0     172.16.5.4  100   \n",
      "169.254.169.254  255.255.255.255  172.16.5.1  eth0     172.16.5.4  100   \n",
      "172.16.5.0       255.255.255.0    0.0.0.0     eth0     172.16.5.4  0     \n",
      "172.17.0.0       255.255.0.0      0.0.0.0     docker0  172.17.0.1  0     .\n",
      "\n",
      "Gateway: 172.16.5.1\n"
     ]
    }
   ],
   "source": [
    "from scapy.all import *\n",
    "\n",
    "print(f\"Scapy version {conf.version}\")\n",
    "print(f\"Interface in use {conf.iface}\")\n",
    "print(f\"\\nRouting table: \\n {conf.route}.\")\n",
    "print(f\"\\nGateway:\", conf.route.route(\"0.0.0.0\")[2])"
   ]
  },
  {
   "cell_type": "code",
   "execution_count": 28,
   "metadata": {},
   "outputs": [
    {
     "name": "stdout",
     "output_type": "stream",
     "text": [
      "version    : BitField  (4 bits)                  = ('4')\n",
      "ihl        : BitField  (4 bits)                  = ('None')\n",
      "tos        : XByteField                          = ('0')\n",
      "len        : ShortField                          = ('None')\n",
      "id         : ShortField                          = ('1')\n",
      "flags      : FlagsField                          = ('<Flag 0 ()>')\n",
      "frag       : BitField  (13 bits)                 = ('0')\n",
      "ttl        : ByteField                           = ('64')\n",
      "proto      : ByteEnumField                       = ('0')\n",
      "chksum     : XShortField                         = ('None')\n",
      "src        : SourceIPField                       = ('None')\n",
      "dst        : DestIPField                         = ('None')\n",
      "options    : PacketListField                     = ('[]')\n"
     ]
    }
   ],
   "source": [
    "# see header format of a supported protocols\n",
    "\n",
    "ls(IP)"
   ]
  }
 ],
 "metadata": {
  "kernelspec": {
   "display_name": "Python 3 (ipykernel)",
   "language": "python",
   "name": "python3"
  },
  "language_info": {
   "codemirror_mode": {
    "name": "ipython",
    "version": 3
   },
   "file_extension": ".py",
   "mimetype": "text/x-python",
   "name": "python",
   "nbconvert_exporter": "python",
   "pygments_lexer": "ipython3",
   "version": "3.10.4"
  },
  "orig_nbformat": 4
 },
 "nbformat": 4,
 "nbformat_minor": 2
}
