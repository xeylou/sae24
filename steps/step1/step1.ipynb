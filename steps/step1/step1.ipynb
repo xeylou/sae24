{
 "cells": [
  {
   "cell_type": "code",
   "execution_count": 12,
   "metadata": {},
   "outputs": [
    {
     "name": "stdout",
     "output_type": "stream",
     "text": [
      "Scapy version 2.5.0\n",
      "Interface in use eth0\n",
      "\n",
      "Routing table: \n",
      " Network          Netmask          Gateway     Iface    Output IP   Metric\n",
      "0.0.0.0          0.0.0.0          172.16.5.1  eth0     172.16.5.4  100   \n",
      "127.0.0.0        255.0.0.0        0.0.0.0     lo       127.0.0.1   1     \n",
      "168.63.129.16    255.255.255.255  172.16.5.1  eth0     172.16.5.4  100   \n",
      "169.254.169.254  255.255.255.255  172.16.5.1  eth0     172.16.5.4  100   \n",
      "172.16.5.0       255.255.255.0    0.0.0.0     eth0     172.16.5.4  0     \n",
      "172.17.0.0       255.255.0.0      0.0.0.0     docker0  172.17.0.1  0     .\n",
      "\n",
      "Gateway: 172.16.5.1\n"
     ]
    }
   ],
   "source": [
    "from scapy.all import *\n",
    "\n",
    "print(f\"Scapy version {conf.version}\")\n",
    "print(f\"Interface in use {conf.iface}\")\n",
    "print(f\"\\nRouting table: \\n {conf.route}.\")\n",
    "print(f\"\\nGateway:\", conf.route.route(\"0.0.0.0\")[2])"
   ]
  },
  {
   "cell_type": "code",
   "execution_count": 31,
   "metadata": {},
   "outputs": [
    {
     "name": "stdout",
     "output_type": "stream",
     "text": [
      "type       : ByteEnumField                       = ('8')\n",
      "code       : MultiEnumField (Depends on 8)       = ('0')\n",
      "chksum     : XShortField                         = ('None')\n",
      "id         : XShortField (Cond)                  = ('0')\n",
      "seq        : XShortField (Cond)                  = ('0')\n",
      "ts_ori     : ICMPTimeStampField (Cond)           = ('55656352')\n",
      "ts_rx      : ICMPTimeStampField (Cond)           = ('55656352')\n",
      "ts_tx      : ICMPTimeStampField (Cond)           = ('55656352')\n",
      "gw         : IPField (Cond)                      = (\"'0.0.0.0'\")\n",
      "ptr        : ByteField (Cond)                    = ('0')\n",
      "reserved   : ByteField (Cond)                    = ('0')\n",
      "length     : ByteField (Cond)                    = ('0')\n",
      "addr_mask  : IPField (Cond)                      = (\"'0.0.0.0'\")\n",
      "nexthopmtu : ShortField (Cond)                   = ('0')\n",
      "unused     : MultipleTypeField (ShortField, IntField, StrFixedLenField) = (\"b''\")\n"
     ]
    }
   ],
   "source": [
    "# see header format of a supported protocols\n",
    "\n",
    "ls(ICMP)"
   ]
  }
 ],
 "metadata": {
  "kernelspec": {
   "display_name": "Python 3 (ipykernel)",
   "language": "python",
   "name": "python3"
  },
  "language_info": {
   "codemirror_mode": {
    "name": "ipython",
    "version": 3
   },
   "file_extension": ".py",
   "mimetype": "text/x-python",
   "name": "python",
   "nbconvert_exporter": "python",
   "pygments_lexer": "ipython3",
   "version": "3.10.4"
  },
  "orig_nbformat": 4
 },
 "nbformat": 4,
 "nbformat_minor": 2
}
