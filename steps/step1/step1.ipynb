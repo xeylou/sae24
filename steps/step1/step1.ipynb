{
 "cells": [
  {
   "cell_type": "code",
   "execution_count": 2,
   "metadata": {},
   "outputs": [
    {
     "name": "stdout",
     "output_type": "stream",
     "text": [
      "Scapy version 2.5.0\n",
      "Interface in use eth0\n",
      "\n",
      "Routing table: \n",
      " Network          Netmask          Gateway     Iface    Output IP   Metric\n",
      "0.0.0.0          0.0.0.0          172.16.5.1  eth0     172.16.5.4  100   \n",
      "127.0.0.0        255.0.0.0        0.0.0.0     lo       127.0.0.1   1     \n",
      "168.63.129.16    255.255.255.255  172.16.5.1  eth0     172.16.5.4  100   \n",
      "169.254.169.254  255.255.255.255  172.16.5.1  eth0     172.16.5.4  100   \n",
      "172.16.5.0       255.255.255.0    0.0.0.0     eth0     172.16.5.4  0     \n",
      "172.17.0.0       255.255.0.0      0.0.0.0     docker0  172.17.0.1  0     .\n",
      "\n",
      "Gateway: 172.16.5.1\n"
     ]
    }
   ],
   "source": [
    "from scapy.all import *\n",
    "\n",
    "print(f\"Scapy version {conf.version}\")\n",
    "print(f\"Interface in use {conf.iface}\")\n",
    "print(f\"\\nRouting table: \\n {conf.route}.\")\n",
    "print(f\"\\nGateway:\", conf.route.route(\"0.0.0.0\")[2])"
   ]
  },
  {
   "cell_type": "code",
   "execution_count": 3,
   "metadata": {},
   "outputs": [
    {
     "name": "stdout",
     "output_type": "stream",
     "text": [
      "type       : ByteEnumField                       = ('8')\n",
      "code       : MultiEnumField (Depends on 8)       = ('0')\n",
      "chksum     : XShortField                         = ('None')\n",
      "id         : XShortField (Cond)                  = ('0')\n",
      "seq        : XShortField (Cond)                  = ('0')\n",
      "ts_ori     : ICMPTimeStampField (Cond)           = ('56399600')\n",
      "ts_rx      : ICMPTimeStampField (Cond)           = ('56399600')\n",
      "ts_tx      : ICMPTimeStampField (Cond)           = ('56399600')\n",
      "gw         : IPField (Cond)                      = (\"'0.0.0.0'\")\n",
      "ptr        : ByteField (Cond)                    = ('0')\n",
      "reserved   : ByteField (Cond)                    = ('0')\n",
      "length     : ByteField (Cond)                    = ('0')\n",
      "addr_mask  : IPField (Cond)                      = (\"'0.0.0.0'\")\n",
      "nexthopmtu : ShortField (Cond)                   = ('0')\n",
      "unused     : MultipleTypeField (ShortField, IntField, StrFixedLenField) = (\"b''\")\n"
     ]
    }
   ],
   "source": [
    "# see header format of a supported protocols\n",
    "\n",
    "ls(ICMP)"
   ]
  },
  {
   "cell_type": "code",
   "execution_count": 23,
   "metadata": {},
   "outputs": [
    {
     "name": "stdout",
     "output_type": "stream",
     "text": [
      "###[ Ethernet ]### \n",
      "  dst       = 00:11:aa:bb:cc:dd\n",
      "  src       = 11:22:33:44:55:66\n",
      "  type      = IPv4\n",
      "###[ IP ]### \n",
      "     version   = 4\n",
      "     ihl       = 5\n",
      "     tos       = 0x0\n",
      "     len       = 44\n",
      "     id        = 1\n",
      "     flags     = \n",
      "     frag      = 0\n",
      "     ttl       = 64\n",
      "     proto     = tcp\n",
      "     chksum    = 0xb10c\n",
      "     src       = 127.0.0.1\n",
      "     dst       = 142.250.187.195\n",
      "     \\options   \\\n",
      "###[ TCP ]### \n",
      "        sport     = ftp_data\n",
      "        dport     = http\n",
      "        seq       = 0\n",
      "        ack       = 0\n",
      "        dataofs   = 5\n",
      "        reserved  = 0\n",
      "        flags     = S\n",
      "        window    = 8192\n",
      "        chksum    = 0xf7df\n",
      "        urgptr    = 0\n",
      "        options   = []\n",
      "###[ Raw ]### \n",
      "           load      = 'allo'\n",
      "\n"
     ]
    }
   ],
   "source": [
    "# creating a packet\n",
    "\n",
    "packet1 = IP()/UDP()\n",
    "\n",
    "# packet1.summary()\n",
    "# packet1.show()\n",
    "# packet1.show2()\n",
    "\n",
    "source_ip = \"172.16.5.4\"\n",
    "destination_ip = \"172.16.5.1\"\n",
    "packet2=IP(src=source_ip, dst=destination_ip)/UDP()\n",
    "# packet2.show()\n",
    "\n",
    "src_mac = \"11:22:33:44:55:66\"\n",
    "dst_mac = \"00:11:AA:BB:CC:DD\"\n",
    "src_ip = \"127.0.0.1\"\n",
    "dst_ip = \"www.google.fr\"\n",
    "frame = Ether(src=src_mac, dst=dst_mac)/IP(src=src_ip, dst=dst_ip)/TCP()/\"allo\"\n",
    "# frame = Ether(src=src_mac, dst=dst_mac)/IP(src=src_ip, dst=dst_ip)/TCP(flags=\"SA\")/\"allo\"\n",
    "frame.show2()"
   ]
  },
  {
   "cell_type": "code",
   "execution_count": 51,
   "metadata": {},
   "outputs": [
    {
     "data": {
      "text/plain": [
       "'!\"#$%&\\'()*+,-./01234567'"
      ]
     },
     "execution_count": 51,
     "metadata": {},
     "output_type": "execute_result"
    }
   ],
   "source": [
    "# open pcap file in scapy\n",
    "\n",
    "file = rdpcap(\"Ping_Google.pcapng\")\n",
    "\n",
    "# file.summary()\n",
    "# file.show2()\n",
    "# file[0].show()\n",
    "\n",
    "# file[2][\"IP\"].show2()\n",
    "# file[2][\"IP\"]\n",
    "# file[2][\"IP\"].dst\n",
    "\n",
    "file[2][Raw].load                   # to read the raw (icmp package)\n",
    "file[2][Raw].load.split(sep=None)     # str sep w/ space into a list\n",
    "file[2][Raw].load.split(sep=None)[2]  # the one we want\n",
    "file[2][Raw].load.split(sep=None)[2].decode(\"UTF8\")"
   ]
  },
  {
   "cell_type": "code",
   "execution_count": null,
   "metadata": {},
   "outputs": [],
   "source": [
    "# send frames or packets\n",
    "\n",
    "packet = IP(dst=\"10.0.0.1\", src=\"10.0.0.2\")/ICMP()/\"blabla\"\n",
    "send(packet)\n",
    "\n",
    "# can be useful\n",
    "\n",
    "# send(packet, loop=1)\n",
    "# send(ping, loop=1, inter=1)"
   ]
  },
  {
   "cell_type": "code",
   "execution_count": null,
   "metadata": {},
   "outputs": [],
   "source": [
    "# receive response\n",
    "\n",
    "# packet = IP(dst=\"172.16.5.4\", src=\"172.16.5.1\")/ICMP()\n",
    "\n",
    "# sr(packet)\n",
    "\n",
    "# ok == PDU avec réponses\n",
    "# nonok == PDU restés sans réponses\n",
    "\n",
    "# ok,nonok = srloop(packet, count=10, inter=1)\n",
    "# 10 paquets max avec un interval de 1 seconde\n",
    "\n",
    "# ok\n",
    "# ok[0]\n",
    "# ok[0][1]\n",
    "\n",
    "from scapy.all import *\n",
    "ICMP_types={ 0 : 'Echo-Reply', 3 : 'Destination Unreachable', 8 : 'Echo'}\n",
    "def print_icmp (packet) :\n",
    "type=packet[ICMP].type\n",
    "ips=packet[IP].src\n",
    "ipd=packet[IP].dst\n",
    "if ips==iface_ip :\n",
    "print(f\"Emission d'un paquet ICMP {ICMP_types[type]} vers {ipd}\")\n",
    "else :\n",
    "print(f\"Réception d'un paquet ICMP {ICMP_types[type]} en provenance de␣\n",
    "↪{ips}\")\n",
    "iface_ip=get_if_addr(conf.iface)\n",
    "sniff(filter=\"icmp\", prn=print_icmp, store=0, iface='en0', count=4\n"
   ]
  }
 ],
 "metadata": {
  "kernelspec": {
   "display_name": "Python 3 (ipykernel)",
   "language": "python",
   "name": "python3"
  },
  "language_info": {
   "codemirror_mode": {
    "name": "ipython",
    "version": 3
   },
   "file_extension": ".py",
   "mimetype": "text/x-python",
   "name": "python",
   "nbconvert_exporter": "python",
   "pygments_lexer": "ipython3",
   "version": "3.10.4"
  },
  "orig_nbformat": 4
 },
 "nbformat": 4,
 "nbformat_minor": 2
}
