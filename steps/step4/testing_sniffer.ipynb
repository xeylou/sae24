{
 "cells": [
  {
   "cell_type": "code",
   "execution_count": 109,
   "metadata": {},
   "outputs": [
    {
     "data": {
      "text/plain": [
       "<Raw  load='USER touriste\\r\\n' |>"
      ]
     },
     "execution_count": 109,
     "metadata": {},
     "output_type": "execute_result"
    }
   ],
   "source": [
    "from scapy.all import *\n",
    "\n",
    "frames=rdpcap(\"ftp-sequence-control.pcapng\")\n",
    "frames[5]['Raw']"
   ]
  },
  {
   "cell_type": "code",
   "execution_count": 110,
   "metadata": {},
   "outputs": [
    {
     "name": "stdout",
     "output_type": "stream",
     "text": [
      "###[ Raw ]### \n",
      "  load      = 'PASS 3aboqphie=3qbc!\\r\\n'\n",
      "\n"
     ]
    }
   ],
   "source": [
    "frames[9]['Raw'].show()"
   ]
  },
  {
   "cell_type": "code",
   "execution_count": 111,
   "metadata": {},
   "outputs": [],
   "source": [
    "for frame in frames:\n",
    "    try:\n",
    "        tmp = frame['Raw'].load.decode('utf-8')\n",
    "    except:\n",
    "        continue\n",
    "    if \"USER\" in tmp:\n",
    "        # frame['Raw'].show()\n",
    "        user = frame['Raw'].load.decode('utf-8').split('USER ')[1].split('\\r\\n')[0]\n",
    "    elif \"PASS\" in tmp:\n",
    "        # frame['Raw'].show()\n",
    "        password = frame['Raw'].load.decode('utf-8').split('PASS ')[1].split('\\r\\n')[0]\n",
    "    # try:\n",
    "    #     if \"USER\" in frame['Raw']:\n",
    "    #         print('a')\n",
    "    #         # user = frame['Raw'].load.decode('utf-8').split('USER ')[1].split('\\r\\n')[0]\n",
    "    #     elif \"PASS\" in frame['Raw']:\n",
    "    #         # pwd = frame['Raw'].show()\n",
    "    #         # password = frame['Raw'].load.decode('utf-8').split('PASS ')[1].split('\\r\\n')[0]\n",
    "    #         print('b')\n",
    "    # except:\n",
    "    #     continue"
   ]
  },
  {
   "cell_type": "code",
   "execution_count": 112,
   "metadata": {},
   "outputs": [
    {
     "name": "stdout",
     "output_type": "stream",
     "text": [
      "touriste 3aboqphie=3qbc!\n"
     ]
    }
   ],
   "source": [
    "print(user, password)"
   ]
  }
 ],
 "metadata": {
  "kernelspec": {
   "display_name": "Python 3",
   "language": "python",
   "name": "python3"
  },
  "language_info": {
   "codemirror_mode": {
    "name": "ipython",
    "version": 3
   },
   "file_extension": ".py",
   "mimetype": "text/x-python",
   "name": "python",
   "nbconvert_exporter": "python",
   "pygments_lexer": "ipython3",
   "version": "3.10.4"
  },
  "orig_nbformat": 4
 },
 "nbformat": 4,
 "nbformat_minor": 2
}
