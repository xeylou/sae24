{
 "cells": [
  {
   "cell_type": "code",
   "execution_count": 1,
   "metadata": {},
   "outputs": [
    {
     "name": "stdout",
     "output_type": "stream",
     "text": [
      "0000 Ether / IP / UDP / DNS Qry \"b'ping.archlinux.org.'\" \n",
      "0001 Ether / IP / UDP / DNS Qry \"b'ping.archlinux.org.'\" \n",
      "0002 Ether / IP / UDP / DNS Ans \"b'redirect.archlinux.org.'\" \n",
      "0003 Ether / IP / UDP / DNS Ans \"b'redirect.archlinux.org.'\" \n",
      "0004 Ether / IPv6 / ICMPv6ND_NS / ICMPv6 Neighbor Discovery Option - Source Link-Layer Address b0:cc:fe:82:28:94\n",
      "0005 Ether / ARP who has 192.168.1.101 says 192.168.1.1\n",
      "0006 Ether / ARP is at e8:84:a5:c8:4b:9b says 192.168.1.101\n",
      "0007 Ether / IP / ICMP 192.168.1.101 > 1.1.1.1 echo-request 0 / Raw\n",
      "0008 Ether / IP / ICMP 1.1.1.1 > 192.168.1.101 echo-reply 0 / Raw\n",
      "0009 Ether / IP / ICMP 192.168.1.101 > 1.1.1.1 echo-request 0 / Raw\n",
      "0010 Ether / IP / ICMP 1.1.1.1 > 192.168.1.101 echo-reply 0 / Raw\n",
      "0011 Ether / IP / ICMP 192.168.1.101 > 1.1.1.1 echo-request 0 / Raw\n",
      "0012 Ether / IP / ICMP 1.1.1.1 > 192.168.1.101 echo-reply 0 / Raw\n",
      "0013 Ether / IP / ICMP 192.168.1.101 > 1.1.1.1 echo-request 0 / Raw\n",
      "0014 Ether / IP / ICMP 1.1.1.1 > 192.168.1.101 echo-reply 0 / Raw\n",
      "0015 Ether / IP / ICMP 192.168.1.101 > 1.1.1.1 echo-request 0 / Raw\n",
      "0016 Ether / IP / ICMP 1.1.1.1 > 192.168.1.101 echo-reply 0 / Raw\n",
      "0017 Ether / ARP who has 192.168.1.1 says 192.168.1.101\n",
      "0018 Ether / ARP is at b0:cc:fe:82:28:94 says 192.168.1.1\n",
      "0019 Ether / IPv6 / ICMPv6ND_NS / ICMPv6 Neighbor Discovery Option - Source Link-Layer Address b0:cc:fe:82:28:94\n",
      "0020 Ether / IPv6 / ICMPv6ND_NS / ICMPv6 Neighbor Discovery Option - Source Link-Layer Address b0:cc:fe:82:28:94\n"
     ]
    }
   ],
   "source": [
    "from scapy.all import *\n",
    "\n",
    "#affichage de toutes les trames\n",
    "trames=rdpcap(\"arp_icmpv4.pcapng\")\n",
    "trames.show()"
   ]
  },
  {
   "cell_type": "code",
   "execution_count": 2,
   "metadata": {},
   "outputs": [
    {
     "name": "stdout",
     "output_type": "stream",
     "text": [
      "###[ Ethernet ]### \n",
      "  dst       = b0:cc:fe:82:28:94\n",
      "  src       = e8:84:a5:c8:4b:9b\n",
      "  type      = IPv4\n",
      "###[ IP ]### \n",
      "     version   = 4\n",
      "     ihl       = 5\n",
      "     tos       = 0x0\n",
      "     len       = 64\n",
      "     id        = 59867\n",
      "     flags     = DF\n",
      "     frag      = 0\n",
      "     ttl       = 64\n",
      "     proto     = udp\n",
      "     chksum    = 0x8cc2\n",
      "     src       = 192.168.1.101\n",
      "     dst       = 1.1.1.1\n",
      "     \\options   \\\n",
      "###[ UDP ]### \n",
      "        sport     = 35218\n",
      "        dport     = domain\n",
      "        len       = 44\n",
      "        chksum    = 0xc44c\n",
      "###[ DNS ]### \n",
      "           id        = 14945\n",
      "           qr        = 0\n",
      "           opcode    = QUERY\n",
      "           aa        = 0\n",
      "           tc        = 0\n",
      "           rd        = 1\n",
      "           ra        = 0\n",
      "           z         = 0\n",
      "           ad        = 0\n",
      "           cd        = 0\n",
      "           rcode     = ok\n",
      "           qdcount   = 1\n",
      "           ancount   = 0\n",
      "           nscount   = 0\n",
      "           arcount   = 0\n",
      "           \\qd        \\\n",
      "            |###[ DNS Question Record ]### \n",
      "            |  qname     = 'ping.archlinux.org.'\n",
      "            |  qtype     = A\n",
      "            |  qclass    = IN\n",
      "           an        = None\n",
      "           ns        = None\n",
      "           ar        = None\n",
      "\n"
     ]
    }
   ],
   "source": [
    "#visualiser une trame\n",
    "#ici la première..\n",
    "trames[0].show()"
   ]
  },
  {
   "cell_type": "code",
   "execution_count": 3,
   "metadata": {},
   "outputs": [
    {
     "data": {
      "text/plain": [
       "'b0:cc:fe:82:28:94'"
      ]
     },
     "execution_count": 3,
     "metadata": {},
     "output_type": "execute_result"
    }
   ],
   "source": [
    "trames[0][Ether].dst"
   ]
  },
  {
   "cell_type": "code",
   "execution_count": 4,
   "metadata": {},
   "outputs": [
    {
     "name": "stdout",
     "output_type": "stream",
     "text": [
      "====================\n",
      "La trame 5 contient du ARP\n",
      "L'@MAC source est b0:cc:fe:82:28:94\n",
      "L'@IP source est 192.168.1.1\n",
      "L'équipement demande 'who-has' ou 'qui a' l'adresse IP 192.168.1.101 à l'@MAC 00:00:00:00:00:00 (en broadcast)\n",
      "====================\n",
      "La trame 6 contient du ARP\n",
      "L'@MAC source est e8:84:a5:c8:4b:9b\n",
      "L'@IP source est 192.168.1.101\n",
      "L'appareil répond à une demande avec 'is-at' ou 'est à' en mettant son @MAC e8:84:a5:c8:4b:9b\n",
      "====================\n",
      "La trame 17 contient du ARP\n",
      "L'@MAC source est e8:84:a5:c8:4b:9b\n",
      "L'@IP source est 192.168.1.101\n",
      "L'équipement demande 'who-has' ou 'qui a' l'adresse IP 192.168.1.1 à l'@MAC 00:00:00:00:00:00 (en broadcast)\n",
      "====================\n",
      "La trame 18 contient du ARP\n",
      "L'@MAC source est b0:cc:fe:82:28:94\n",
      "L'@IP source est 192.168.1.1\n",
      "L'appareil répond à une demande avec 'is-at' ou 'est à' en mettant son @MAC b0:cc:fe:82:28:94\n"
     ]
    }
   ],
   "source": [
    "'''\n",
    "CHERCHER trame[ARP].op EN HAUT POUR VOIR LE NUMERO QU'IL FAUT\n",
    "'''\n",
    "\n",
    "#récupération des informations dans les trame contenant du arp\n",
    "\n",
    "#dictionnaire que j'ai recherché des opérations arp\n",
    "dic={1:\"who-has\",2:\"is-at\"}\n",
    "\n",
    "numéro_de_trame=0\n",
    "for trame in trames:\n",
    "    try:\n",
    "        #la trame contient du arp\n",
    "        trame[ARP].show\n",
    "        print(f\"====================\")\n",
    "        print(f\"La trame {numéro_de_trame} contient du ARP\")\n",
    "        print(f\"L'@MAC source est {trame[ARP].hwsrc}\")\n",
    "        print(f\"L'@IP source est {trame[ARP].psrc}\")\n",
    "        if trame[ARP].op==1:\n",
    "            print(f\"L'équipement demande 'who-has' ou 'qui a' l'adresse IP {trame[ARP].pdst} à l'@MAC {trame[ARP].hwdst} (en broadcast)\")\n",
    "        elif trame[ARP].op==2:\n",
    "            print(f\"L'appareil répond à une demande avec 'is-at' ou 'est à' en mettant son @MAC {trame[ARP].hwsrc}\")\n",
    "        numéro_de_trame+=1\n",
    "    except:\n",
    "        numéro_de_trame+=1\n",
    "        continue"
   ]
  },
  {
   "cell_type": "code",
   "execution_count": 5,
   "metadata": {},
   "outputs": [
    {
     "name": "stdout",
     "output_type": "stream",
     "text": [
      "====================\n",
      "La trame 7 contient du ICMPv4\n",
      "C'est requête est une echo-request de 192.168.1.101 à 1.1.1.1\n",
      "====================\n",
      "La trame 8 contient du ICMPv4\n",
      "C'est un echo-reply de 1.1.1.1 à 192.168.1.101\n",
      "====================\n",
      "La trame 9 contient du ICMPv4\n",
      "C'est requête est une echo-request de 192.168.1.101 à 1.1.1.1\n",
      "====================\n",
      "La trame 10 contient du ICMPv4\n",
      "C'est un echo-reply de 1.1.1.1 à 192.168.1.101\n",
      "====================\n",
      "La trame 11 contient du ICMPv4\n",
      "C'est requête est une echo-request de 192.168.1.101 à 1.1.1.1\n",
      "====================\n",
      "La trame 12 contient du ICMPv4\n",
      "C'est un echo-reply de 1.1.1.1 à 192.168.1.101\n",
      "====================\n",
      "La trame 13 contient du ICMPv4\n",
      "C'est requête est une echo-request de 192.168.1.101 à 1.1.1.1\n",
      "====================\n",
      "La trame 14 contient du ICMPv4\n",
      "C'est un echo-reply de 1.1.1.1 à 192.168.1.101\n",
      "====================\n",
      "La trame 15 contient du ICMPv4\n",
      "C'est requête est une echo-request de 192.168.1.101 à 1.1.1.1\n",
      "====================\n",
      "La trame 16 contient du ICMPv4\n",
      "C'est un echo-reply de 1.1.1.1 à 192.168.1.101\n"
     ]
    }
   ],
   "source": [
    "#récupération des informations dans les trame contenant du icmpv4\n",
    "\n",
    "dic={8: 'echo-request', 0: 'echo-reply'}\n",
    "\n",
    "numéro_de_trame=0\n",
    "for trame in trames:\n",
    "    try:\n",
    "        #la trame contient du icmpv4\n",
    "        trame[ICMP].show\n",
    "        print(f\"====================\")\n",
    "        print(f\"La trame {numéro_de_trame} contient du ICMPv4\")\n",
    "        if trame[ICMP].type==8:\n",
    "            print(f\"C'est requête est une echo-request de {trame[IP].src} à {trame[IP].dst}\")\n",
    "        elif trame[ICMP].type==0:\n",
    "            print(f\"C'est un echo-reply de {trame[IP].src} à {trame[IP].dst}\")\n",
    "        numéro_de_trame+=1\n",
    "    except:\n",
    "        numéro_de_trame+=1\n",
    "        continue"
   ]
  }
 ],
 "metadata": {
  "kernelspec": {
   "display_name": "Python 3",
   "language": "python",
   "name": "python3"
  },
  "language_info": {
   "codemirror_mode": {
    "name": "ipython",
    "version": 3
   },
   "file_extension": ".py",
   "mimetype": "text/x-python",
   "name": "python",
   "nbconvert_exporter": "python",
   "pygments_lexer": "ipython3",
   "version": "3.11.3"
  },
  "orig_nbformat": 4
 },
 "nbformat": 4,
 "nbformat_minor": 2
}
