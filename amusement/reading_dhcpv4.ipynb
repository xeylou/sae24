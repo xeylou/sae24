{
 "cells": [
  {
   "cell_type": "code",
   "execution_count": 1,
   "metadata": {},
   "outputs": [
    {
     "name": "stdout",
     "output_type": "stream",
     "text": [
      "0000 Ether / IP / UDP / BOOTP / DHCP Discover\n",
      "0001 Ether / IP / UDP / BOOTP / DHCP Offer\n",
      "0002 Ether / IP / UDP / BOOTP / DHCP Request\n",
      "0003 Ether / IP / UDP / BOOTP / DHCP Ack\n"
     ]
    }
   ],
   "source": [
    "from scapy.all import *\n",
    "\n",
    "trames=rdpcap(\"dhcpv4.pcapng\")\n",
    "trames.show()"
   ]
  },
  {
   "cell_type": "code",
   "execution_count": 2,
   "metadata": {},
   "outputs": [
    {
     "name": "stdout",
     "output_type": "stream",
     "text": [
      "###[ DHCP options ]### \n",
      "  options   = [message-type=discover client_id='\\x01脥\\\\xc8K\\\\x9b' param_req_list=[1, 2, 6, 12, 15, 26, 28, 121, 3, 33, 40, 41, 42, 119, 249, 252, 17] max_dhcp_size=576 hostname=b'86' end]\n",
      "\n"
     ]
    }
   ],
   "source": [
    "trames[0][DHCP].show()"
   ]
  },
  {
   "cell_type": "code",
   "execution_count": 3,
   "metadata": {},
   "outputs": [
    {
     "data": {
      "text/plain": [
       "('message-type', 2)"
      ]
     },
     "execution_count": 3,
     "metadata": {},
     "output_type": "execute_result"
    }
   ],
   "source": [
    "trames[1][DHCP].options[0]"
   ]
  },
  {
   "cell_type": "code",
   "execution_count": 4,
   "metadata": {},
   "outputs": [
    {
     "data": {
      "text/plain": [
       "5"
      ]
     },
     "execution_count": 4,
     "metadata": {},
     "output_type": "execute_result"
    }
   ],
   "source": [
    "trames[3][DHCP].options[0][1]"
   ]
  },
  {
   "cell_type": "code",
   "execution_count": 5,
   "metadata": {},
   "outputs": [
    {
     "name": "stdout",
     "output_type": "stream",
     "text": [
      "====================\n",
      "discover\n",
      "====================\n",
      "offer\n",
      "====================\n",
      "request\n",
      "====================\n",
      "ack\n"
     ]
    }
   ],
   "source": [
    "#vu avec tests au dessus\n",
    "dic={1: \"discover\", 2: \"offer\", 3: \"request\", 5: \"ack\"}\n",
    "\n",
    "for trame in trames:\n",
    "    try:\n",
    "        trame[DHCP].options[0]       \n",
    "        if trame[DHCP].options[0][1]==1:\n",
    "            print(f\"====================\")\n",
    "            print(f\"discover\")\n",
    "        elif trame[DHCP].options[0][1]==2:\n",
    "            print(f\"====================\")\n",
    "            print(f\"offer\")\n",
    "        elif trame[DHCP].options[0][1]==3:\n",
    "            print(f\"====================\")\n",
    "            print(f\"request\")\n",
    "        elif trame[DHCP].options[0][1]==5:\n",
    "            print(f\"====================\")\n",
    "            print(f\"ack\")\n",
    "    except:\n",
    "        continue"
   ]
  }
 ],
 "metadata": {
  "kernelspec": {
   "display_name": "Python 3",
   "language": "python",
   "name": "python3"
  },
  "language_info": {
   "codemirror_mode": {
    "name": "ipython",
    "version": 3
   },
   "file_extension": ".py",
   "mimetype": "text/x-python",
   "name": "python",
   "nbconvert_exporter": "python",
   "pygments_lexer": "ipython3",
   "version": "3.11.3"
  },
  "orig_nbformat": 4
 },
 "nbformat": 4,
 "nbformat_minor": 2
}
